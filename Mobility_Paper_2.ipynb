{
  "cells": [
    {
      "cell_type": "markdown",
      "metadata": {
        "id": "view-in-github",
        "colab_type": "text"
      },
      "source": [
        "<a href=\"https://colab.research.google.com/github/RPAlbuquerque/PhD-Dissertation---Paper-2/blob/main/Mobility_Paper_2.ipynb\" target=\"_parent\"><img src=\"https://colab.research.google.com/assets/colab-badge.svg\" alt=\"Open In Colab\"/></a>"
      ]
    },
    {
      "cell_type": "code",
      "execution_count": null,
      "id": "325cfa66-06d8-4f90-b68c-7f0469dfba4b",
      "metadata": {
        "id": "325cfa66-06d8-4f90-b68c-7f0469dfba4b"
      },
      "outputs": [],
      "source": [
        "##🔧 Bloco 1: Setup & Imports"
      ]
    },
    {
      "cell_type": "code",
      "execution_count": null,
      "id": "e1ba054b-874d-416c-808e-fbc230748b83",
      "metadata": {
        "id": "e1ba054b-874d-416c-808e-fbc230748b83",
        "outputId": "d160ee1c-6774-4cce-c277-a2f72f7a79c6"
      },
      "outputs": [
        {
          "data": {
            "text/html": [
              "<style>.jp-OutputArea{font-size: 14px;}</style>"
            ],
            "text/plain": [
              "<IPython.core.display.HTML object>"
            ]
          },
          "metadata": {},
          "output_type": "display_data"
        },
        {
          "name": "stdout",
          "output_type": "stream",
          "text": [
            "Environment set up. Ready to load mobility data.\n"
          ]
        }
      ],
      "source": [
        "# Title: Setup and Configuration\n",
        "import pandas as pd\n",
        "import numpy as np\n",
        "import os\n",
        "import gzip\n",
        "import sys\n",
        "import multiprocessing as mp\n",
        "from tqdm import tqdm\n",
        "\n",
        "# Ensure real-time output in Jupyter\n",
        "from IPython.display import display, HTML\n",
        "display(HTML(\"<style>.jp-OutputArea{font-size: 14px;}</style>\"))\n",
        "\n",
        "# Path to raw mobility data\n",
        "MOBILITY_PATH = \"/n/netscratch/cga/Lab/rpalbuquerque/Mobility/\"\n",
        "MOBILITY_FILE = os.path.join(MOBILITY_PATH, \"mobilidade_unificada_Aug_2024.csv.gz\")\n",
        "\n",
        "# Output folder for intermediate files\n",
        "OUTPUT_PATH = os.path.join(MOBILITY_PATH, \"processed_aug2024\")\n",
        "os.makedirs(OUTPUT_PATH, exist_ok=True)\n",
        "\n",
        "print(\"Environment set up. Ready to load mobility data.\")"
      ]
    },
    {
      "cell_type": "code",
      "execution_count": null,
      "id": "0b99c42d-cf1f-4916-b43c-85037d3d20a0",
      "metadata": {
        "id": "0b99c42d-cf1f-4916-b43c-85037d3d20a0"
      },
      "outputs": [],
      "source": [
        "##📥 Block 2: Reading and pre visualization"
      ]
    },
    {
      "cell_type": "code",
      "execution_count": null,
      "id": "12ac6179-7455-4290-b773-f44784c919ca",
      "metadata": {
        "id": "12ac6179-7455-4290-b773-f44784c919ca",
        "outputId": "eb9a859b-5cd5-49db-cdfe-85e2e4ee1d76"
      },
      "outputs": [
        {
          "name": "stdout",
          "output_type": "stream",
          "text": [
            "Preview of mobility data (first 5 rows):\n"
          ]
        },
        {
          "data": {
            "text/html": [
              "<div>\n",
              "<style scoped>\n",
              "    .dataframe tbody tr th:only-of-type {\n",
              "        vertical-align: middle;\n",
              "    }\n",
              "\n",
              "    .dataframe tbody tr th {\n",
              "        vertical-align: top;\n",
              "    }\n",
              "\n",
              "    .dataframe thead th {\n",
              "        text-align: right;\n",
              "    }\n",
              "</style>\n",
              "<table border=\"1\" class=\"dataframe\">\n",
              "  <thead>\n",
              "    <tr style=\"text-align: right;\">\n",
              "      <th></th>\n",
              "      <th>month_part</th>\n",
              "      <th>store_id</th>\n",
              "      <th>demographics_gender</th>\n",
              "      <th>demographics_age_range</th>\n",
              "      <th>demographics_class</th>\n",
              "      <th>...</th>\n",
              "      <th>dow_7_h1</th>\n",
              "      <th>dow_7_h2</th>\n",
              "      <th>dow_7_h3</th>\n",
              "      <th>dow_7_h4</th>\n",
              "      <th>state</th>\n",
              "    </tr>\n",
              "  </thead>\n",
              "  <tbody>\n",
              "    <tr>\n",
              "      <th>0</th>\n",
              "      <td>2024-08-01T00:00:00.000Z</td>\n",
              "      <td>210090705000051</td>\n",
              "      <td>F</td>\n",
              "      <td>18_24</td>\n",
              "      <td>D</td>\n",
              "      <td>...</td>\n",
              "      <td>4.30</td>\n",
              "      <td>11.95</td>\n",
              "      <td>6.71</td>\n",
              "      <td>15.20</td>\n",
              "      <td>MA</td>\n",
              "    </tr>\n",
              "    <tr>\n",
              "      <th>1</th>\n",
              "      <td>2024-08-01T00:00:00.000Z</td>\n",
              "      <td>210550005000065</td>\n",
              "      <td>F</td>\n",
              "      <td>30_39</td>\n",
              "      <td>D</td>\n",
              "      <td>...</td>\n",
              "      <td>3.29</td>\n",
              "      <td>0.89</td>\n",
              "      <td>0.00</td>\n",
              "      <td>1.25</td>\n",
              "      <td>MA</td>\n",
              "    </tr>\n",
              "    <tr>\n",
              "      <th>2</th>\n",
              "      <td>2024-08-01T00:00:00.000Z</td>\n",
              "      <td>211170605000059</td>\n",
              "      <td>M</td>\n",
              "      <td>30_39</td>\n",
              "      <td>D</td>\n",
              "      <td>...</td>\n",
              "      <td>0.00</td>\n",
              "      <td>0.00</td>\n",
              "      <td>0.00</td>\n",
              "      <td>0.00</td>\n",
              "      <td>MA</td>\n",
              "    </tr>\n",
              "    <tr>\n",
              "      <th>3</th>\n",
              "      <td>2024-08-01T00:00:00.000Z</td>\n",
              "      <td>210140005000172</td>\n",
              "      <td>M</td>\n",
              "      <td>70_79</td>\n",
              "      <td>E</td>\n",
              "      <td>...</td>\n",
              "      <td>270.66</td>\n",
              "      <td>325.01</td>\n",
              "      <td>286.06</td>\n",
              "      <td>231.58</td>\n",
              "      <td>MA</td>\n",
              "    </tr>\n",
              "    <tr>\n",
              "      <th>4</th>\n",
              "      <td>2024-08-01T00:00:00.000Z</td>\n",
              "      <td>210005505000002</td>\n",
              "      <td>M</td>\n",
              "      <td>18_24</td>\n",
              "      <td>E</td>\n",
              "      <td>...</td>\n",
              "      <td>588.99</td>\n",
              "      <td>843.53</td>\n",
              "      <td>664.34</td>\n",
              "      <td>998.97</td>\n",
              "      <td>MA</td>\n",
              "    </tr>\n",
              "  </tbody>\n",
              "</table>\n",
              "<p>5 rows × 61 columns</p>\n",
              "</div>"
            ],
            "text/plain": [
              "                 month_part         store_id demographics_gender  \\\n",
              "0  2024-08-01T00:00:00.000Z  210090705000051                   F   \n",
              "1  2024-08-01T00:00:00.000Z  210550005000065                   F   \n",
              "2  2024-08-01T00:00:00.000Z  211170605000059                   M   \n",
              "3  2024-08-01T00:00:00.000Z  210140005000172                   M   \n",
              "4  2024-08-01T00:00:00.000Z  210005505000002                   M   \n",
              "\n",
              "  demographics_age_range demographics_class  ...  dow_7_h1  dow_7_h2  \\\n",
              "0                  18_24                  D  ...      4.30     11.95   \n",
              "1                  30_39                  D  ...      3.29      0.89   \n",
              "2                  30_39                  D  ...      0.00      0.00   \n",
              "3                  70_79                  E  ...    270.66    325.01   \n",
              "4                  18_24                  E  ...    588.99    843.53   \n",
              "\n",
              "   dow_7_h3  dow_7_h4  state  \n",
              "0      6.71     15.20     MA  \n",
              "1      0.00      1.25     MA  \n",
              "2      0.00      0.00     MA  \n",
              "3    286.06    231.58     MA  \n",
              "4    664.34    998.97     MA  \n",
              "\n",
              "[5 rows x 61 columns]"
            ]
          },
          "metadata": {},
          "output_type": "display_data"
        },
        {
          "name": "stdout",
          "output_type": "stream",
          "text": [
            "\n",
            "Columns: ['month_part', 'store_id', 'demographics_gender', 'demographics_age_range', 'demographics_class', 'unique', 'visits', 'raw_unique', 'raw_visits', 'unique_q1', 'visits_q1', 'unique_q2', 'visits_q2', 'unique_q3', 'visits_q3', 'unique_q4', 'visits_q4', 'repeat_q1', 'repeat_q2', 'repeat_q3', 'repeat_q4', 'repeat_visitors', 'new_visitor_q1', 'new_visitor_q2', 'new_visitor_q3', 'new_visitor_q4', 'new_visitors', 'dwell_time_mins_q1', 'dwell_time_mins_q2', 'dwell_time_mins_q3', 'dwell_time_mins_q4', 'dwell_time_mins', 'dow_1_h1', 'dow_1_h2', 'dow_1_h3', 'dow_1_h4', 'dow_2_h1', 'dow_2_h2', 'dow_2_h3', 'dow_2_h4', 'dow_3_h1', 'dow_3_h2', 'dow_3_h3', 'dow_3_h4', 'dow_4_h1', 'dow_4_h2', 'dow_4_h3', 'dow_4_h4', 'dow_5_h1', 'dow_5_h2', 'dow_5_h3', 'dow_5_h4', 'dow_6_h1', 'dow_6_h2', 'dow_6_h3', 'dow_6_h4', 'dow_7_h1', 'dow_7_h2', 'dow_7_h3', 'dow_7_h4', 'state']\n"
          ]
        }
      ],
      "source": [
        "# Title: Load Mobility Data (August 2024)\n",
        "\n",
        "chunks = []\n",
        "with gzip.open(MOBILITY_FILE, 'rt') as f:\n",
        "    first_chunk = pd.read_csv(f, nrows=100_000)\n",
        "    print(\"Preview of mobility data (first 5 rows):\")\n",
        "    display(first_chunk.head())\n",
        "    print(f\"\\nColumns: {list(first_chunk.columns)}\")"
      ]
    },
    {
      "cell_type": "code",
      "execution_count": null,
      "id": "b4fa40bb-3297-49c3-bf9b-82dab309376d",
      "metadata": {
        "id": "b4fa40bb-3297-49c3-bf9b-82dab309376d"
      },
      "outputs": [],
      "source": [
        "##⚙️ Bloco 3: Clean and Save Raw Mobility"
      ]
    },
    {
      "cell_type": "code",
      "execution_count": null,
      "id": "2c90c90b-2f47-4087-9789-784e80f1f494",
      "metadata": {
        "id": "2c90c90b-2f47-4087-9789-784e80f1f494",
        "outputId": "c5ec47a8-19da-4a0b-e436-2e1becb11cfe"
      },
      "outputs": [
        {
          "name": "stdout",
          "output_type": "stream",
          "text": [
            "⏳ Starting streaming read, clean, and save...\n",
            "✔️ Processed chunk: 2000000 → 2000000 rows written\n",
            "✔️ Processed chunk: 2000000 → 2000000 rows written\n",
            "✔️ Processed chunk: 2000000 → 2000000 rows written\n",
            "✔️ Processed chunk: 2000000 → 2000000 rows written\n",
            "✔️ Processed chunk: 2000000 → 2000000 rows written\n",
            "✔️ Processed chunk: 2000000 → 2000000 rows written\n",
            "✔️ Processed chunk: 2000000 → 2000000 rows written\n",
            "✔️ Processed chunk: 629714 → 629714 rows written\n",
            "\n",
            "✅ Total rows after cleaning: 14,629,714\n",
            "✅ Final cleaned file saved at: /n/netscratch/cga/Lab/rpalbuquerque/Mobility/processed_aug2024/mobility_aug2024_clean.csv.gz\n"
          ]
        }
      ],
      "source": [
        "# Title: High-Efficiency Chunked Cleaning and Direct Save\n",
        "\n",
        "import pandas as pd\n",
        "import os\n",
        "\n",
        "MOBILITY_FILE = \"/n/netscratch/cga/Lab/rpalbuquerque/Mobility/mobilidade_unificada_Aug_2024.csv.gz\"\n",
        "OUTPUT_PATH = \"/n/netscratch/cga/Lab/rpalbuquerque/Mobility/processed_aug2024\"\n",
        "os.makedirs(OUTPUT_PATH, exist_ok=True)\n",
        "clean_output_path = os.path.join(OUTPUT_PATH, \"mobility_aug2024_clean.csv.gz\")\n",
        "\n",
        "chunk_size = 2_000_000\n",
        "row_count = 0\n",
        "is_first = True\n",
        "\n",
        "print(\"⏳ Starting streaming read, clean, and save...\")\n",
        "\n",
        "for chunk in pd.read_csv(MOBILITY_FILE, compression='gzip', low_memory=False, chunksize=chunk_size):\n",
        "    initial_rows = len(chunk)\n",
        "    chunk = chunk.dropna(subset=['store_id', 'month_part'])\n",
        "    row_count += len(chunk)\n",
        "\n",
        "    # Write to disk incrementally\n",
        "    chunk.to_csv(clean_output_path, mode='w' if is_first else 'a',\n",
        "                 header=is_first, index=False, compression='gzip')\n",
        "    is_first = False\n",
        "\n",
        "    print(f\"✔️ Processed chunk: {initial_rows} → {len(chunk)} rows written\")\n",
        "\n",
        "print(f\"\\n✅ Total rows after cleaning: {row_count:,}\")\n",
        "print(f\"✅ Final cleaned file saved at: {clean_output_path}\")"
      ]
    },
    {
      "cell_type": "code",
      "execution_count": null,
      "id": "641b4602-f820-4118-bccb-741fb58cdb0b",
      "metadata": {
        "id": "641b4602-f820-4118-bccb-741fb58cdb0b"
      },
      "outputs": [],
      "source": [
        "##📊 Block 4 — Aggregation by setor with high performance"
      ]
    },
    {
      "cell_type": "code",
      "execution_count": null,
      "id": "32456a04-a609-40c2-a82b-c469a6bba57a",
      "metadata": {
        "id": "32456a04-a609-40c2-a82b-c469a6bba57a",
        "outputId": "e195a3f0-0145-4b00-b7bb-9441afcb4252"
      },
      "outputs": [
        {
          "name": "stdout",
          "output_type": "stream",
          "text": [
            "⏳ Starting vectorized aggregation by store_id...\n",
            "✅ Aggregated file saved at: /n/netscratch/cga/Lab/rpalbuquerque/Mobility/aggregated_aug2024/mobility_by_sector.csv.gz\n"
          ]
        }
      ],
      "source": [
        "# Title: Ultra-Fast Aggregation by Sector (Vectorized Version)\n",
        "\n",
        "import pandas as pd\n",
        "import os\n",
        "\n",
        "clean_input_path = \"/n/netscratch/cga/Lab/rpalbuquerque/Mobility/processed_aug2024/mobility_aug2024_clean.csv.gz\"\n",
        "agg_output_path = \"/n/netscratch/cga/Lab/rpalbuquerque/Mobility/aggregated_aug2024\"\n",
        "os.makedirs(agg_output_path, exist_ok=True)\n",
        "agg_file = os.path.join(agg_output_path, \"mobility_by_sector.csv.gz\")\n",
        "\n",
        "chunk_size = 2_000_000\n",
        "agg_chunks = []\n",
        "\n",
        "print(\"⏳ Starting vectorized aggregation by store_id...\")\n",
        "\n",
        "for chunk in pd.read_csv(clean_input_path, chunksize=chunk_size, low_memory=False):\n",
        "    chunk_grouped = chunk.groupby('store_id').agg({\n",
        "        'unique': 'sum',\n",
        "        'visits': 'sum',\n",
        "        'raw_unique': 'sum',\n",
        "        'raw_visits': 'sum',\n",
        "        'repeat_visitors': 'sum',\n",
        "        'new_visitors': 'sum',\n",
        "        'dwell_time_mins': ['sum', 'count'],\n",
        "        'state': 'first'\n",
        "    })\n",
        "    agg_chunks.append(chunk_grouped)\n",
        "\n",
        "# Combine all intermediate results\n",
        "combined = pd.concat(agg_chunks).groupby('store_id').agg({\n",
        "    ('unique', 'sum'): 'sum',\n",
        "    ('visits', 'sum'): 'sum',\n",
        "    ('raw_unique', 'sum'): 'sum',\n",
        "    ('raw_visits', 'sum'): 'sum',\n",
        "    ('repeat_visitors', 'sum'): 'sum',\n",
        "    ('new_visitors', 'sum'): 'sum',\n",
        "    ('dwell_time_mins', 'sum'): 'sum',\n",
        "    ('dwell_time_mins', 'count'): 'sum',\n",
        "    ('state', 'first'): 'first'\n",
        "})\n",
        "\n",
        "# Flatten columns\n",
        "combined.columns = [\n",
        "    'total_unique_visitors', 'total_visits', 'raw_unique_visitors', 'raw_total_visits',\n",
        "    'total_repeat_visitors', 'total_new_visitors', 'dwell_sum', 'dwell_count', 'state'\n",
        "]\n",
        "combined.reset_index(inplace=True)\n",
        "combined['avg_dwell_time_mins'] = combined['dwell_sum'] / combined['dwell_count']\n",
        "\n",
        "# Final format\n",
        "final_df = combined[[\n",
        "    'store_id', 'total_unique_visitors', 'total_visits', 'raw_unique_visitors',\n",
        "    'raw_total_visits', 'total_repeat_visitors', 'total_new_visitors',\n",
        "    'avg_dwell_time_mins', 'state'\n",
        "]].rename(columns={'store_id': 'code_censo'})\n",
        "\n",
        "# Save final file\n",
        "final_df.to_csv(agg_file, index=False, compression='gzip')\n",
        "print(f\"✅ Aggregated file saved at: {agg_file}\")"
      ]
    },
    {
      "cell_type": "code",
      "execution_count": null,
      "id": "caea1f7e-5d47-47cc-b3a5-8001f378a653",
      "metadata": {
        "id": "caea1f7e-5d47-47cc-b3a5-8001f378a653"
      },
      "outputs": [],
      "source": [
        "## ⚙️ Block 5: Full Aggregation of All Numeric Columns by Sector"
      ]
    },
    {
      "cell_type": "code",
      "execution_count": null,
      "id": "1700ed21-0190-46d0-a360-795d24488666",
      "metadata": {
        "id": "1700ed21-0190-46d0-a360-795d24488666",
        "outputId": "701bfff3-1b6a-42f2-bd92-e1ee82034eb3"
      },
      "outputs": [
        {
          "name": "stdout",
          "output_type": "stream",
          "text": [
            "⏳ Starting robust full numeric aggregation by sector...\n",
            "✅ Full numeric aggregation saved at: /n/netscratch/cga/Lab/rpalbuquerque/Mobility/aggregated_aug2024/mobility_by_sector_full.csv.gz\n"
          ]
        }
      ],
      "source": [
        "# Title: Full Aggregation of All Numeric Columns by Sector (No Re-Groupby)\n",
        "\n",
        "import pandas as pd\n",
        "import numpy as np\n",
        "import os\n",
        "\n",
        "# Paths\n",
        "clean_input_path = \"/n/netscratch/cga/Lab/rpalbuquerque/Mobility/processed_aug2024/mobility_aug2024_clean.csv.gz\"\n",
        "agg_output_path = \"/n/netscratch/cga/Lab/rpalbuquerque/Mobility/aggregated_aug2024\"\n",
        "os.makedirs(agg_output_path, exist_ok=True)\n",
        "agg_file = os.path.join(agg_output_path, \"mobility_by_sector_full.csv.gz\")\n",
        "\n",
        "# Config\n",
        "chunk_size = 2_000_000\n",
        "aggregated_chunks = {}\n",
        "\n",
        "print(\"⏳ Starting robust full numeric aggregation by sector...\")\n",
        "\n",
        "for chunk in pd.read_csv(clean_input_path, chunksize=chunk_size, low_memory=False):\n",
        "    numeric_cols = chunk.select_dtypes(include=[np.number]).columns.tolist()\n",
        "    grouped = chunk.groupby(\"store_id\")[numeric_cols].agg(['sum', 'mean'])\n",
        "\n",
        "    # Aggregate into dict\n",
        "    for store_id, row in grouped.iterrows():\n",
        "        if store_id not in aggregated_chunks:\n",
        "            aggregated_chunks[store_id] = row\n",
        "        else:\n",
        "            aggregated_chunks[store_id] += row\n",
        "\n",
        "# Convert back to DataFrame\n",
        "final = pd.DataFrame.from_dict(aggregated_chunks, orient='index')\n",
        "final.index.name = 'code_censo'\n",
        "final.reset_index(inplace=True)\n",
        "\n",
        "# Flatten MultiIndex columns\n",
        "final.columns = ['code_censo'] + [f\"{col}_{stat}\" for col, stat in final.columns[1:]]\n",
        "\n",
        "# Save to disk\n",
        "final.to_csv(agg_file, index=False, compression='gzip')\n",
        "print(f\"✅ Full numeric aggregation saved at: {agg_file}\")"
      ]
    },
    {
      "cell_type": "code",
      "execution_count": null,
      "id": "63d9247f-582e-4c83-a553-c32da90d9c79",
      "metadata": {
        "id": "63d9247f-582e-4c83-a553-c32da90d9c79"
      },
      "outputs": [],
      "source": [
        "##⚙️ Bloco 6: Sociodemographic Aggregation by Sector"
      ]
    },
    {
      "cell_type": "code",
      "execution_count": null,
      "id": "b8d407f9-faf6-44e2-83d2-f97a1789b944",
      "metadata": {
        "id": "b8d407f9-faf6-44e2-83d2-f97a1789b944",
        "outputId": "fdfaa54d-ac71-4af7-de44-dc5ddf376ce4"
      },
      "outputs": [
        {
          "name": "stdout",
          "output_type": "stream",
          "text": [
            "⏳ Starting sociodemographic aggregation...\n",
            "✅ Aggregation done. Converting to DataFrame...\n",
            "✅ Sociodemographic proportions saved at: /n/netscratch/cga/Lab/rpalbuquerque/Mobility/aggregated_aug2024/mobility_sociodemographics.csv.gz\n"
          ]
        }
      ],
      "source": [
        "# Title: Sociodemographic Aggregation by Sector (Proportions)\n",
        "\n",
        "import pandas as pd\n",
        "import os\n",
        "from collections import defaultdict\n",
        "\n",
        "# Paths\n",
        "clean_input_path = \"/n/netscratch/cga/Lab/rpalbuquerque/Mobility/processed_aug2024/mobility_aug2024_clean.csv.gz\"\n",
        "agg_output_path = \"/n/netscratch/cga/Lab/rpalbuquerque/Mobility/aggregated_aug2024\"\n",
        "os.makedirs(agg_output_path, exist_ok=True)\n",
        "output_file = os.path.join(agg_output_path, \"mobility_sociodemographics.csv.gz\")\n",
        "\n",
        "# Config\n",
        "chunk_size = 2_000_000\n",
        "agg_data = defaultdict(lambda: defaultdict(int))\n",
        "\n",
        "print(\"⏳ Starting sociodemographic aggregation...\")\n",
        "\n",
        "for chunk in pd.read_csv(clean_input_path, chunksize=chunk_size, low_memory=False):\n",
        "    for var in ['demographics_gender', 'demographics_age_range', 'demographics_class']:\n",
        "        grouped = chunk.groupby('store_id')[var].value_counts()\n",
        "        for (store_id, category), count in grouped.items():\n",
        "            col_name = f\"{var}_{category}\"\n",
        "            agg_data[store_id][col_name] += count\n",
        "\n",
        "print(\"✅ Aggregation done. Converting to DataFrame...\")\n",
        "\n",
        "# Transform to DataFrame\n",
        "records = []\n",
        "for store_id, counts in agg_data.items():\n",
        "    total = sum(counts.values())\n",
        "    row = {'code_censo': store_id}\n",
        "    for col, val in counts.items():\n",
        "        row[col] = val / total  # proportion\n",
        "    records.append(row)\n",
        "\n",
        "final_df = pd.DataFrame(records)\n",
        "final_df.to_csv(output_file, index=False, compression='gzip')\n",
        "print(f\"✅ Sociodemographic proportions saved at: {output_file}\")"
      ]
    },
    {
      "cell_type": "code",
      "execution_count": null,
      "id": "32587d8f-afce-43d6-a850-5bb5c16d6d18",
      "metadata": {
        "id": "32587d8f-afce-43d6-a850-5bb5c16d6d18"
      },
      "outputs": [],
      "source": [
        "##⚙️ Bloco 6: Sociodemographic Aggregation by Sector"
      ]
    },
    {
      "cell_type": "code",
      "execution_count": null,
      "id": "96f8eda8-1234-423b-98aa-766208a3ebfd",
      "metadata": {
        "id": "96f8eda8-1234-423b-98aa-766208a3ebfd"
      },
      "outputs": [],
      "source": []
    }
  ],
  "metadata": {
    "kernelspec": {
      "display_name": "Python (meu_ambiente_bertopic)",
      "language": "python",
      "name": "meu_ambiente_bertopic"
    },
    "language_info": {
      "codemirror_mode": {
        "name": "ipython",
        "version": 3
      },
      "file_extension": ".py",
      "mimetype": "text/x-python",
      "name": "python",
      "nbconvert_exporter": "python",
      "pygments_lexer": "ipython3",
      "version": "3.8.8"
    },
    "colab": {
      "provenance": [],
      "include_colab_link": true
    }
  },
  "nbformat": 4,
  "nbformat_minor": 5
}